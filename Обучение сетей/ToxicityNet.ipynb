{
 "nbformat": 4,
 "nbformat_minor": 0,
 "metadata": {
  "colab": {
   "name": "Проверка отзывов на токсичность.ipynb",
   "provenance": [],
   "mount_file_id": "1qRD4Z6MU-TWeUEGIlGj-cEo9iMc16ykJ",
   "authorship_tag": "ABX9TyNGZhsQw787Yq9CzsmpbByv"
  },
  "kernelspec": {
   "name": "python3",
   "display_name": "Python 3"
  },
  "language_info": {
   "name": "python"
  },
  "accelerator": "GPU"
 },
 "cells": [
  {
   "cell_type": "markdown",
   "metadata": {
    "id": "QVfrMt2WTgqm"
   },
   "source": [
    "# Подготовка"
   ]
  },
  {
   "cell_type": "code",
   "metadata": {
    "id": "xHFGwCOsRPLO",
    "executionInfo": {
     "status": "ok",
     "timestamp": 1634039516756,
     "user_tz": -180,
     "elapsed": 10,
     "user": {
      "displayName": "Даниал Куртумеров",
      "photoUrl": "https://lh3.googleusercontent.com/a-/AOh14GhTMmDBW3hf0uuHLe7zHbMFKRyD6ySEBo8K0eniCq0=s64",
      "userId": "09612938779648574918"
     }
    }
   },
   "source": [
    "from tensorflow.keras.models import Sequential\n",
    "from tensorflow.keras.layers import Dense, Embedding, LSTM, SpatialDropout1D\n",
    "from tensorflow.keras.preprocessing.sequence import pad_sequences\n",
    "from tensorflow.keras.preprocessing.text import Tokenizer\n",
    "from tensorflow.keras.callbacks import ModelCheckpoint\n",
    "import pandas as pd"
   ],
   "execution_count": 1,
   "outputs": []
  },
  {
   "cell_type": "code",
   "metadata": {
    "id": "BeIMejwGRcMZ"
   },
   "source": [
    "num_words = 10000\n",
    "max_comment_len = 50\n",
    "\n",
    "train = pd.read_csv('C:/Storage/Dataset/Commentary/train.csv')\n",
    "comments = train['comment_text']\n",
    "y_train = train[['toxic', 'severe_toxic', 'obscene', 'threat', 'insult', 'identity_hate']]\n",
    "\n",
    "tokenizer = Tokenizer(num_words=num_words)\n",
    "tokenizer.fit_on_texts(comments)\n",
    "sequences = tokenizer.texts_to_sequences(comments)\n",
    "x_train = pad_sequences(sequences, maxlen=max_comment_len)"
   ],
   "execution_count": 2,
   "outputs": []
  },
  {
   "cell_type": "markdown",
   "metadata": {
    "id": "qXm42mRuUWr5"
   },
   "source": [
    "# Построение сети"
   ]
  },
  {
   "cell_type": "code",
   "metadata": {
    "id": "l9LvWE4pUZPb"
   },
   "source": [
    "model_lstm = Sequential()\n",
    "model_lstm.add(Embedding(num_words, 128, input_length=max_comment_len))\n",
    "model_lstm.add(SpatialDropout1D(0.5))\n",
    "model_lstm.add(LSTM(40, return_sequences=True))\n",
    "model_lstm.add(LSTM(40))\n",
    "model_lstm.add(Dense(6, activation='sigmoid'))\n",
    "\n",
    "model_lstm.compile(\n",
    "    optimizer='adam',\n",
    "    loss='binary_crossentropy',\n",
    "    metrics=['accuracy', 'AUC']\n",
    ")\n",
    "\n",
    "model_lstm_save_path = 'C:/Storage/Net/predict_toxicity/predict_toxicity.h5'\n",
    "checkpoint_callback_lstm = ModelCheckpoint(\n",
    "    model_lstm_save_path,\n",
    "    monitor='val_accuracy',\n",
    "    save_best_only=True,\n",
    "    verbose=1\n",
    ")\n",
    "\n",
    "model_lstm.summary()"
   ],
   "execution_count": 3,
   "outputs": [
    {
     "name": "stdout",
     "output_type": "stream",
     "text": [
      "Model: \"sequential\"\n",
      "_________________________________________________________________\n",
      "Layer (type)                 Output Shape              Param #   \n",
      "=================================================================\n",
      "embedding (Embedding)        (None, 50, 128)           1280000   \n",
      "_________________________________________________________________\n",
      "spatial_dropout1d (SpatialDr (None, 50, 128)           0         \n",
      "_________________________________________________________________\n",
      "lstm (LSTM)                  (None, 50, 40)            27040     \n",
      "_________________________________________________________________\n",
      "lstm_1 (LSTM)                (None, 40)                12960     \n",
      "_________________________________________________________________\n",
      "dense (Dense)                (None, 6)                 246       \n",
      "=================================================================\n",
      "Total params: 1,320,246\n",
      "Trainable params: 1,320,246\n",
      "Non-trainable params: 0\n",
      "_________________________________________________________________\n"
     ]
    }
   ]
  },
  {
   "cell_type": "markdown",
   "source": [
    "# Обучение сети"
   ],
   "metadata": {
    "collapsed": false
   }
  },
  {
   "cell_type": "code",
   "metadata": {
    "colab": {
     "base_uri": "https://localhost:8080/"
    },
    "id": "TbsSc7PTUk3c",
    "executionInfo": {
     "status": "ok",
     "timestamp": 1633854801769,
     "user_tz": -180,
     "elapsed": 41260,
     "user": {
      "displayName": "Даниал Куртумеров",
      "photoUrl": "https://lh3.googleusercontent.com/a-/AOh14GhTMmDBW3hf0uuHLe7zHbMFKRyD6ySEBo8K0eniCq0=s64",
      "userId": "09612938779648574918"
     }
    },
    "outputId": "e0e93449-e8aa-4f8b-874a-65c89b99c545"
   },
   "source": [
    "history_lstm = model_lstm.fit(\n",
    "    x_train,\n",
    "    y_train,\n",
    "    epochs=5,\n",
    "    batch_size=512,\n",
    "    validation_split=0.2,\n",
    "    callbacks=[checkpoint_callback_lstm]\n",
    ")"
   ],
   "execution_count": null,
   "outputs": [
    {
     "output_type": "stream",
     "name": "stdout",
     "text": [
      "Epoch 1/5\n",
      "250/250 [==============================] - 8s 32ms/step - loss: 0.0470 - accuracy: 0.9941 - auc: 0.9806 - val_loss: 0.0551 - val_accuracy: 0.9940 - val_auc: 0.9673\n",
      "\n",
      "Epoch 00001: val_accuracy improved from -inf to 0.99402, saving model to /content/drive/MyDrive/БГУИР/5 семестр/Курсовой проект/сhecking_reviews_for_toxicity.h5\n",
      "Epoch 2/5\n",
      "250/250 [==============================] - 8s 31ms/step - loss: 0.0452 - accuracy: 0.9941 - auc: 0.9824 - val_loss: 0.0554 - val_accuracy: 0.9940 - val_auc: 0.9640\n",
      "\n",
      "Epoch 00002: val_accuracy did not improve from 0.99402\n",
      "Epoch 3/5\n",
      "250/250 [==============================] - 8s 31ms/step - loss: 0.0434 - accuracy: 0.9941 - auc: 0.9841 - val_loss: 0.0560 - val_accuracy: 0.9940 - val_auc: 0.9665\n",
      "\n",
      "Epoch 00003: val_accuracy improved from 0.99402 to 0.99405, saving model to /content/drive/MyDrive/БГУИР/5 семестр/Курсовой проект/сhecking_reviews_for_toxicity.h5\n",
      "Epoch 4/5\n",
      "250/250 [==============================] - 8s 31ms/step - loss: 0.0418 - accuracy: 0.9941 - auc: 0.9853 - val_loss: 0.0564 - val_accuracy: 0.9940 - val_auc: 0.9672\n",
      "\n",
      "Epoch 00004: val_accuracy did not improve from 0.99405\n",
      "Epoch 5/5\n",
      "250/250 [==============================] - 8s 31ms/step - loss: 0.0405 - accuracy: 0.9941 - auc: 0.9862 - val_loss: 0.0584 - val_accuracy: 0.9940 - val_auc: 0.9592\n",
      "\n",
      "Epoch 00005: val_accuracy did not improve from 0.99405\n"
     ]
    }
   ]
  },
  {
   "cell_type": "markdown",
   "metadata": {
    "id": "i_PhTu0FVkT8",
    "pycharm": {
     "name": "#%% md\n"
    }
   },
   "source": [
    "# Тестирование"
   ]
  },
  {
   "cell_type": "code",
   "execution_count": null,
   "outputs": [],
   "source": [
    "test_comments = pd.read_csv('C:/Storage/Dataset/Commentary/test.csv')\n",
    "test_labels = pd.read_csv('C:/Storage/Dataset/Commentary/test_labels.csv')\n",
    "test_full = pd.merge(test_comments, test_labels, on='id')\n",
    "test = test_full[test_full['toxic']!=-1]\n",
    "test_sequences = tokenizer.texts_to_sequences(test['comment_text'])\n",
    "x_test = pad_sequences(test_sequences, maxlen=max_comment_len)\n",
    "y_test = test[['toxic',\t'severe_toxic',\t'obscene', 'threat',\t'insult',\t'identity_hate']]\n",
    "model_lstm.load_weights(model_lstm_save_path)\n",
    "model_lstm.evaluate(x_test, y_test, verbose=1)"
   ],
   "metadata": {
    "collapsed": false,
    "pycharm": {
     "name": "#%%\n"
    }
   }
  },
  {
   "cell_type": "markdown",
   "metadata": {
    "id": "kFnkBkrEWmKo"
   },
   "source": [
    "# Проверка"
   ]
  },
  {
   "cell_type": "code",
   "metadata": {
    "colab": {
     "base_uri": "https://localhost:8080/"
    },
    "id": "ZTqWUbwUWst9",
    "executionInfo": {
     "status": "ok",
     "timestamp": 1633856223100,
     "user_tz": -180,
     "elapsed": 205,
     "user": {
      "displayName": "Даниал Куртумеров",
      "photoUrl": "https://lh3.googleusercontent.com/a-/AOh14GhTMmDBW3hf0uuHLe7zHbMFKRyD6ySEBo8K0eniCq0=s64",
      "userId": "09612938779648574918"
     }
    },
    "outputId": "32570b2f-8a94-42c3-f9c8-607b933f3347"
   },
   "source": [
    "comment = \"X-BOX 360 SUKCS BIG BUMM AND LIKES IT UP THE ASS\"\n",
    "sequence = tokenizer.texts_to_sequences([comment])\n",
    "data = pad_sequences(sequence, maxlen=max_comment_len)\n",
    "result = model_lstm.predict(data)\n",
    "result"
   ],
   "execution_count": null,
   "outputs": [
    {
     "output_type": "execute_result",
     "data": {
      "text/plain": [
       "array([[0.9451662 , 0.02548518, 0.6889377 , 0.01368805, 0.5778702 ,\n",
       "        0.07606437]], dtype=float32)"
      ]
     },
     "metadata": {},
     "execution_count": 30
    }
   ]
  }
 ]
}